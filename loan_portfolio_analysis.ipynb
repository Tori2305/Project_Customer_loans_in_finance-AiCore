{
 "cells": [
  {
   "cell_type": "code",
   "execution_count": 2,
   "metadata": {},
   "outputs": [
    {
     "name": "stdout",
     "output_type": "stream",
     "text": [
      "id                                      int64\n",
      "member_id                               int64\n",
      "loan_amount                             int64\n",
      "funded_amount                         float64\n",
      "funded_amount_inv                     float64\n",
      "term                                   object\n",
      "int_rate                              float64\n",
      "instalment                            float64\n",
      "grade                                  object\n",
      "sub_grade                              object\n",
      "employment_length                     float64\n",
      "home_ownership                         object\n",
      "annual_inc                            float64\n",
      "verification_status                    object\n",
      "issue_date                     datetime64[ns]\n",
      "loan_status                          category\n",
      "payment_plan                           object\n",
      "purpose                                object\n",
      "dti                                   float64\n",
      "delinq_2yrs                             int64\n",
      "earliest_credit_line           datetime64[ns]\n",
      "inq_last_6mths                          int64\n",
      "mths_since_last_delinq                float64\n",
      "mths_since_last_record                float64\n",
      "open_accounts                           int64\n",
      "total_accounts                          int64\n",
      "out_prncp                             float64\n",
      "out_prncp_inv                         float64\n",
      "total_payment                         float64\n",
      "total_payment_inv                     float64\n",
      "total_rec_prncp                       float64\n",
      "total_rec_int                         float64\n",
      "total_rec_late_fee                    float64\n",
      "recoveries                            float64\n",
      "collection_recovery_fee               float64\n",
      "last_payment_date              datetime64[ns]\n",
      "last_payment_amount                   float64\n",
      "next_payment_date              datetime64[ns]\n",
      "last_credit_pull_date          datetime64[ns]\n",
      "collections_12_mths_ex_med            float64\n",
      "mths_since_last_major_derog           float64\n",
      "policy_code                             int64\n",
      "application_type                       object\n",
      "dtype: object\n"
     ]
    }
   ],
   "source": [
    "import pandas as pd\n",
    "from data_transform import DataTransform\n",
    "\n",
    "df = pd.read_csv(\"loan_payments.csv\")\n",
    "\n",
    "# Initialize DataTransform class\n",
    "transformer = DataTransform(df)\n",
    "\n",
    "# Apply conversions\n",
    "transformer.convert_employment_length('employment_length')\n",
    "columns_to_convert_to_datetime = [\n",
    "    'issue_date',\n",
    "    'earliest_credit_line',\n",
    "    'last_payment_date',\n",
    "    'next_payment_date',\n",
    "    'last_credit_pull_date'\n",
    "]\n",
    "transformer.convert_multiple_to_datetime(\n",
    "    columns_to_convert_to_datetime, date_format='%b-%Y'\n",
    "    )\n",
    "transformer.convert_to_category('loan_status')\n",
    "\n",
    "#transformer.drop_na('employment_length')\n",
    "\n",
    "new_df = transformer.get_dataframe()\n",
    "\n",
    "# Display the transformed DataFrame\n",
    "print(new_df.dtypes)\n"
   ]
  }
 ],
 "metadata": {
  "kernelspec": {
   "display_name": "base",
   "language": "python",
   "name": "python3"
  },
  "language_info": {
   "codemirror_mode": {
    "name": "ipython",
    "version": 3
   },
   "file_extension": ".py",
   "mimetype": "text/x-python",
   "name": "python",
   "nbconvert_exporter": "python",
   "pygments_lexer": "ipython3",
   "version": "3.12.3"
  }
 },
 "nbformat": 4,
 "nbformat_minor": 2
}
