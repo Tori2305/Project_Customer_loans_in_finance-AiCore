{
 "cells": [
  {
   "cell_type": "markdown",
   "metadata": {},
   "source": [
    "#### Conversion of columns"
   ]
  },
  {
   "cell_type": "code",
   "execution_count": 1,
   "metadata": {},
   "outputs": [],
   "source": [
    "import pandas as pd\n",
    "from data_transform import DataTransform\n",
    "\n",
    "df = pd.read_csv(\"loan_payments.csv\")\n",
    "\n",
    "# Initialize DataTransform class\n",
    "transformer = DataTransform(df)\n",
    "\n",
    "# Apply conversions\n",
    "transformer.convert_to_int('term')\n",
    "transformer.convert_employment_length('employment_length')\n",
    "columns_to_convert_to_datetime = [\n",
    "    'issue_date',\n",
    "    'earliest_credit_line',\n",
    "    'last_payment_date',\n",
    "    'next_payment_date',\n",
    "    'last_credit_pull_date'\n",
    "]\n",
    "transformer.convert_multiple_to_datetime(\n",
    "    columns_to_convert_to_datetime, date_format='%b-%Y'\n",
    "    )\n",
    "transformer.convert_to_category('loan_status')\n",
    "\n",
    "columns_to_convert_to_date = [\n",
    "    'next_payment_date',\n",
    "    'last_payment_date',\n",
    "    'last_credit_pull_date'\n",
    "]\n",
    "transformer.convert_to_date(\n",
    "    columns_to_convert_to_date\n",
    "    )\n",
    "\n",
    "#transformer.drop_na('employment_length')\n",
    "\n",
    "new_df = transformer.get_dataframe()"
   ]
  },
  {
   "cell_type": "markdown",
   "metadata": {},
   "source": [
    "#### Describe DataFrame"
   ]
  },
  {
   "cell_type": "code",
   "execution_count": 2,
   "metadata": {},
   "outputs": [
    {
     "name": "stdout",
     "output_type": "stream",
     "text": [
      "\n",
      "Describe Columns\n",
      "id                                      int64\n",
      "member_id                               int64\n",
      "loan_amount                             int64\n",
      "funded_amount                         float64\n",
      "funded_amount_inv                     float64\n",
      "term                                    int64\n",
      "int_rate                              float64\n",
      "instalment                            float64\n",
      "grade                                  object\n",
      "sub_grade                              object\n",
      "employment_length                     float64\n",
      "home_ownership                         object\n",
      "annual_inc                            float64\n",
      "verification_status                    object\n",
      "issue_date                     datetime64[ns]\n",
      "loan_status                          category\n",
      "payment_plan                           object\n",
      "purpose                                object\n",
      "dti                                   float64\n",
      "delinq_2yrs                             int64\n",
      "earliest_credit_line           datetime64[ns]\n",
      "inq_last_6mths                          int64\n",
      "mths_since_last_delinq                float64\n",
      "mths_since_last_record                float64\n",
      "open_accounts                           int64\n",
      "total_accounts                          int64\n",
      "out_prncp                             float64\n",
      "out_prncp_inv                         float64\n",
      "total_payment                         float64\n",
      "total_payment_inv                     float64\n",
      "total_rec_prncp                       float64\n",
      "total_rec_int                         float64\n",
      "total_rec_late_fee                    float64\n",
      "recoveries                            float64\n",
      "collection_recovery_fee               float64\n",
      "last_payment_date                      object\n",
      "last_payment_amount                   float64\n",
      "next_payment_date                      object\n",
      "last_credit_pull_date                  object\n",
      "collections_12_mths_ex_med            float64\n",
      "mths_since_last_major_derog           float64\n",
      "policy_code                             int64\n",
      "application_type                       object\n",
      "dtype: object\n"
     ]
    }
   ],
   "source": [
    "import pandas as pd\n",
    "from dataframe_info import DataFrameInfo\n",
    "\n",
    "# Initialize DataFrameInfo class\n",
    "info = DataFrameInfo(new_df)\n",
    "\n",
    "# Describe columns\n",
    "print(\"\\nDescribe Columns\")\n",
    "print(info.describe_columns())\n"
   ]
  },
  {
   "cell_type": "code",
   "execution_count": 3,
   "metadata": {},
   "outputs": [
    {
     "name": "stdout",
     "output_type": "stream",
     "text": [
      "\n",
      "Statistical Values\n",
      "                  id     member_id   loan_amount  funded_amount  \\\n",
      "median  7.084590e+06  8.709873e+06  12000.000000   12000.000000   \n",
      "std     9.571362e+06  1.031281e+07   8082.196709    8019.017599   \n",
      "mean    7.621797e+06  8.655350e+06  13333.076100   13229.509117   \n",
      "\n",
      "        funded_amount_inv       term   int_rate  instalment  \\\n",
      "median       11300.000000  36.000000  13.160000  347.150000   \n",
      "std           8099.473527  15.826533   4.392893  238.920012   \n",
      "mean         12952.622979  38.857111  13.507328  400.013953   \n",
      "\n",
      "        employment_length    annual_inc  ...  total_payment_inv  \\\n",
      "median           6.000000  61000.000000  ...        9835.830000   \n",
      "std              3.649479  51589.339577  ...        8363.508506   \n",
      "mean             5.690749  72220.848249  ...       11788.946618   \n",
      "\n",
      "        total_rec_prncp  total_rec_int  total_rec_late_fee  recoveries  \\\n",
      "median      7644.920000    1734.640000            0.000000    0.000000   \n",
      "std         6958.124264    2581.657345            6.215792  630.843636   \n",
      "mean        9407.048589    2577.757101            0.901512   93.501288   \n",
      "\n",
      "        collection_recovery_fee  last_payment_amount  \\\n",
      "median                 0.000000           562.670000   \n",
      "std                  120.193950          5323.801675   \n",
      "mean                  10.859057          3130.706393   \n",
      "\n",
      "        collections_12_mths_ex_med  mths_since_last_major_derog  policy_code  \n",
      "median                    0.000000                    42.000000          1.0  \n",
      "std                       0.070990                    21.052360          0.0  \n",
      "mean                      0.004208                    42.253634          1.0  \n",
      "\n",
      "[3 rows x 30 columns]\n"
     ]
    }
   ],
   "source": [
    "# Extract statistical values\n",
    "print(\"\\nStatistical Values\")\n",
    "print(info.extract_statistical_values())"
   ]
  },
  {
   "cell_type": "markdown",
   "metadata": {},
   "source": [
    "## Key Insights from Statistical Analysis\n",
    "\n",
    "1. **Loan_amount** = Suggests typical loan amount is around £12,000, there are some loans with significantly higher amounts, leading to a higher mean than standard deviation. \n",
    "2. **Term** = The median term is 36 months, with a mean of 38.86 months and a standard deviation of 15.83. This indicates that most loans have a term of around 36 months, but there are some loans with longer terms. \n",
    "3. **Interest Rate (int_rate)** = The median interest rate is 13.16%, with a mean of 13.50 and standard deviation of 4.39%. This suggests that while the typical interest rate is around 13.6%, there is some variation in the interest rates offered.\n",
    "4. **Annual Income (annual_inc)** = Suggests typical income is around £61,000, with a mean of £72,220.85 and standard deviation of £51,589.34. Whilst typical Annual Income is around £61,000 there are some borrowers with significantly higher incomes, leading to a higher mean than standard deviation. \n",
    "5. **Total Payment (total_payment_inv)** = The median total payment is £9,835.83, with a mean of £11,788.95 and standard deviation of £8,363.51. This suggests that although the typical total payment is around £9,835.83, there are some loans with significantly higher total payments. "
   ]
  },
  {
   "cell_type": "code",
   "execution_count": 6,
   "metadata": {},
   "outputs": [
    {
     "name": "stdout",
     "output_type": "stream",
     "text": [
      "\n",
      "Distinct Values in Categorical Columns\n",
      "grade                      7\n",
      "sub_grade                 35\n",
      "home_ownership             5\n",
      "verification_status        3\n",
      "loan_status                9\n",
      "payment_plan               2\n",
      "purpose                   14\n",
      "last_payment_date         98\n",
      "next_payment_date         96\n",
      "last_credit_pull_date    101\n",
      "application_type           1\n",
      "dtype: int64\n",
      "\n",
      "DataFrame Shape\n",
      "(54231, 43)\n"
     ]
    }
   ],
   "source": [
    "# Count distinct values in categorical columns\n",
    "print(\"\\nDistinct Values in Categorical Columns\")\n",
    "print(info.count_distinct_values())\n",
    "\n",
    "# Print DataFrame shape\n",
    "print(\"\\nDataFrame Shape\")\n",
    "print(info.print_shape())"
   ]
  },
  {
   "cell_type": "code",
   "execution_count": 5,
   "metadata": {},
   "outputs": [
    {
     "name": "stdout",
     "output_type": "stream",
     "text": [
      "\n",
      "Summary\n",
      "                id    member_id  loan_amount  funded_amount  \\\n",
      "count     54231.00     54231.00     54231.00       51224.00   \n",
      "mean    7621797.48   8655349.93     13333.08       13229.51   \n",
      "min       55521.00     70694.00       500.00         500.00   \n",
      "25%      759433.00    958772.00      7000.00        7000.00   \n",
      "50%     7084590.00   8709873.00     12000.00       12000.00   \n",
      "75%     8860616.50  10527137.00     18000.00       18000.00   \n",
      "max    38676116.00  41461848.00     35000.00       35000.00   \n",
      "std     9571361.65  10312806.88      8082.20        8019.02   \n",
      "\n",
      "       funded_amount_inv      term  int_rate  instalment  employment_length  \\\n",
      "count           54231.00  54231.00  49062.00    54231.00           52113.00   \n",
      "mean            12952.62     38.86     13.51      400.01               5.69   \n",
      "min                 0.00      0.00      5.42       15.67               0.00   \n",
      "25%              6700.00     36.00     10.37      224.20               2.00   \n",
      "50%             11300.00     36.00     13.16      347.15               6.00   \n",
      "75%             18000.00     60.00     16.20      527.55              10.00   \n",
      "max             35000.00     60.00     26.06     1407.01              10.00   \n",
      "std              8099.47     15.83      4.39      238.92               3.65   \n",
      "\n",
      "       annual_inc  ... total_payment_inv  total_rec_prncp  total_rec_int  \\\n",
      "count    54231.00  ...          54231.00         54231.00       54231.00   \n",
      "mean     72220.85  ...          11788.95          9407.05        2577.76   \n",
      "min       3300.00  ...              0.00             0.00           0.00   \n",
      "25%      45000.00  ...           5658.82          4264.35         889.56   \n",
      "50%      61000.00  ...           9835.83          7644.92        1734.64   \n",
      "75%      86000.00  ...          15978.20         12505.62        3323.77   \n",
      "max    2039784.00  ...          55061.00         35000.02       23062.45   \n",
      "std      51589.34  ...           8363.51          6958.12        2581.66   \n",
      "\n",
      "      total_rec_late_fee  recoveries  collection_recovery_fee  \\\n",
      "count           54231.00    54231.00                 54231.00   \n",
      "mean                0.90       93.50                    10.86   \n",
      "min                 0.00        0.00                     0.00   \n",
      "25%                 0.00        0.00                     0.00   \n",
      "50%                 0.00        0.00                     0.00   \n",
      "75%                 0.00        0.00                     0.00   \n",
      "max               358.68    27750.00                  7002.19   \n",
      "std                 6.22      630.84                   120.19   \n",
      "\n",
      "       last_payment_amount  collections_12_mths_ex_med  \\\n",
      "count             54231.00                    54180.00   \n",
      "mean               3130.71                        0.00   \n",
      "min                   0.00                        0.00   \n",
      "25%                 289.79                        0.00   \n",
      "50%                 562.67                        0.00   \n",
      "75%                3738.12                        0.00   \n",
      "max               36115.20                        4.00   \n",
      "std                5323.80                        0.07   \n",
      "\n",
      "       mths_since_last_major_derog  policy_code  \n",
      "count                      7499.00      54231.0  \n",
      "mean                         42.25          1.0  \n",
      "min                           0.00          1.0  \n",
      "25%                          26.00          1.0  \n",
      "50%                          42.00          1.0  \n",
      "75%                          59.00          1.0  \n",
      "max                         146.00          1.0  \n",
      "std                          21.05          0.0  \n",
      "\n",
      "[8 rows x 32 columns]\n"
     ]
    }
   ],
   "source": [
    "# Get summary statistics\n",
    "print(\"\\nSummary\")\n",
    "summary = info.get_summary()\n",
    "rounded_summary = summary.round(2)\n",
    "print(rounded_summary)"
   ]
  },
  {
   "cell_type": "code",
   "execution_count": 7,
   "metadata": {},
   "outputs": [
    {
     "name": "stdout",
     "output_type": "stream",
     "text": [
      "\n",
      "NULL Values\n",
      "                             null_count  null_percentage\n",
      "id                                    0             0.00\n",
      "member_id                             0             0.00\n",
      "loan_amount                           0             0.00\n",
      "funded_amount                      3007             5.54\n",
      "funded_amount_inv                     0             0.00\n",
      "term                                  0             0.00\n",
      "int_rate                           5169             9.53\n",
      "instalment                            0             0.00\n",
      "grade                                 0             0.00\n",
      "sub_grade                             0             0.00\n",
      "employment_length                  2118             3.91\n",
      "home_ownership                        0             0.00\n",
      "annual_inc                            0             0.00\n",
      "verification_status                   0             0.00\n",
      "issue_date                            0             0.00\n",
      "loan_status                           0             0.00\n",
      "payment_plan                          0             0.00\n",
      "purpose                               0             0.00\n",
      "dti                                   0             0.00\n",
      "delinq_2yrs                           0             0.00\n",
      "earliest_credit_line                  0             0.00\n",
      "inq_last_6mths                        0             0.00\n",
      "mths_since_last_delinq            31002            57.17\n",
      "mths_since_last_record            48050            88.60\n",
      "open_accounts                         0             0.00\n",
      "total_accounts                        0             0.00\n",
      "out_prncp                             0             0.00\n",
      "out_prncp_inv                         0             0.00\n",
      "total_payment                         0             0.00\n",
      "total_payment_inv                     0             0.00\n",
      "total_rec_prncp                       0             0.00\n",
      "total_rec_int                         0             0.00\n",
      "total_rec_late_fee                    0             0.00\n",
      "recoveries                            0             0.00\n",
      "collection_recovery_fee               0             0.00\n",
      "last_payment_date                    73             0.13\n",
      "last_payment_amount                   0             0.00\n",
      "next_payment_date                 32608            60.13\n",
      "last_credit_pull_date                 7             0.01\n",
      "collections_12_mths_ex_med           51             0.09\n",
      "mths_since_last_major_derog       46732            86.17\n",
      "policy_code                           0             0.00\n",
      "application_type                      0             0.00\n"
     ]
    }
   ],
   "source": [
    "# Count NULL values\n",
    "print(\"\\nNULL Values\")\n",
    "print(info.count_null_values())"
   ]
  },
  {
   "cell_type": "markdown",
   "metadata": {},
   "source": [
    "#### Summary of NULL values:\n",
    "- funded_amount: 3,007 null values (5.54%)\n",
    "- int_rate: 5,169 null values (9.53%)\n",
    "- employment_length: 2,118 null values (3.91%)\n",
    "- mths_since_last_delinq: 31,002 null values (57.17%)\n",
    "- mths_since_last_record: 48,050 null values (88.60%)\n",
    "- last_payment_date: 73 null values (0.13%)\n",
    "- next_payment_date: 32,608 null values (60.13%)\n",
    "- last_credit_pull_date: 7 null values (0.01%)\n",
    "- collections_12_mths_ex_med: 51 null values (0.09%)\n",
    "- mths_since_last_major_derog: 46,732 null values (86.17%)"
   ]
  },
  {
   "cell_type": "markdown",
   "metadata": {},
   "source": []
  },
  {
   "cell_type": "markdown",
   "metadata": {},
   "source": []
  }
 ],
 "metadata": {
  "kernelspec": {
   "display_name": "base",
   "language": "python",
   "name": "python3"
  },
  "language_info": {
   "codemirror_mode": {
    "name": "ipython",
    "version": 3
   },
   "file_extension": ".py",
   "mimetype": "text/x-python",
   "name": "python",
   "nbconvert_exporter": "python",
   "pygments_lexer": "ipython3",
   "version": "3.12.3"
  }
 },
 "nbformat": 4,
 "nbformat_minor": 2
}
