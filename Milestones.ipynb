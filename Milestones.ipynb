{
 "cells": [
  {
   "cell_type": "markdown",
   "metadata": {},
   "source": [
    "# Project 2 - Customer loans in Finance"
   ]
  },
  {
   "cell_type": "markdown",
   "metadata": {},
   "source": [
    "This file serves as a tool for myself to revisit what I have done and the things that I have learnt."
   ]
  },
  {
   "cell_type": "markdown",
   "metadata": {},
   "source": [
    "#### Milestone 2: Extract the loans data from the cloud\n",
    "\n",
    "- Task 1: Initalise a class to extract the data - see file *db_utils.py*\n",
    "- Task 2: Extract data from the RDSDatabase\n",
    "    - Create a file to store the database credentials 'credentials.yaml' and ensure this is added to .gitignore file in your repo.\n",
    "    - Create .gitignore file and add the credentials to that file:\n",
    "        - touch .gitignore > nano .gitignore > \"credentials.yaml\" > close editor > git add .gitignore > git commit -m .gitignore > git push main origin.\n",
    "    - Within your RDSDatabase Class - write your __init__method, taking in as a parameter a dictionary of credentials (which you get from the previous step)\n",
    "    \n",
    "- Step 3: "
   ]
  },
  {
   "cell_type": "code",
   "execution_count": null,
   "metadata": {},
   "outputs": [],
   "source": [
    "#Task 1: Below is a high level of the class and all the methods defined within it:\n",
    "\n",
    "class RDSDatabaseConnector: \n",
    "\n",
    "-- I think this needs to be further down --\n",
    "\n",
    "    def __init__(self, credentials:dict):\n",
    "        #add in attributes\n",
    "    def connection(self):\n",
    "        #add in control structures & variables\n",
    "    def extract_data(self, query:str):\n",
    "        #add in control structures & variables\n",
    "    def save_data_to_csv(self, df:pd.DataFrame,filename: str = \"data.csv\")\n",
    "        #add in control structures & variables\n",
    "    def data_shape(self, df):\n",
    "        #add in control structures & variables\n",
    "    def disconnect(self):\n",
    "        #add in parameteres\n",
    "    "
   ]
  },
  {
   "cell_type": "code",
   "execution_count": null,
   "metadata": {},
   "outputs": [],
   "source": [
    "#Task 2: Extract data from the Database\n",
    "import yaml\n",
    "\n",
    "def load_credentials(filepath:str) -> dict:\n",
    "    # this takes the filepath as a str and returns as a dictionary\n",
    "    try:\n",
    "        with open(filepath, \"r\") as f:\n",
    "            credentials = yaml.safe_load(f)\n",
    "            print(\"Credentials loaded successfully\") # Not necessary but a good check\n",
    "            return credentials \n",
    "    except Exception as e:\n",
    "        print(f\" Error loading in credentials: {e}\")\n",
    "        return {}\n",
    "\n",
    "#define your __init__ method\n",
    "\n",
    "def __init__(self):\n",
    "    self.credentials = credentials\n",
    "\n",
    "\n"
   ]
  },
  {
   "cell_type": "markdown",
   "metadata": {},
   "source": [
    "#### Milestone 1-2: Initialise & run a class to extract the data "
   ]
  },
  {
   "cell_type": "markdown",
   "metadata": {},
   "source": [
    "**1. Initialise the class**"
   ]
  },
  {
   "cell_type": "markdown",
   "metadata": {},
   "source": [
    "- Created a Python file to contain code for extraction - **db_utils.py**\n",
    "- Created a Class **RDSDatabase** which will be used for the extraction"
   ]
  },
  {
   "cell_type": "markdown",
   "metadata": {},
   "source": [
    "**2. Store Database Credentials**\n",
    "\n",
    "- Created a credentials.yaml file to store the database credentials provided by AiCore\n",
    "- Created a .gitignore file to keep the credentials secure and prevent them from being pushed to GitHub: \n",
    "\n",
    "    1. Create .gitignore file\n",
    "        - git init > git touch .gitignore > git nano .gitignore > \n",
    "    2. Add in credentials.yaml\n",
    "        - git add .gitignore \n",
    "    3. Commit to Github\n",
    "        - git commit -m \"Adding .gitignore to GitHub\" > git push origin main\n",
    "     "
   ]
  },
  {
   "cell_type": "markdown",
   "metadata": {},
   "source": [
    "**2. Load credentials**"
   ]
  },
  {
   "cell_type": "code",
   "execution_count": null,
   "metadata": {},
   "outputs": [],
   "source": [
    "import yaml\n",
    "\n",
    "def load_credentials(filepath: str) -> dict:\n",
    "    with open(filepath, \"r\") as f:\n",
    "        credentials = yaml.safe_load(f)\n",
    "    "
   ]
  },
  {
   "cell_type": "markdown",
   "metadata": {},
   "source": [
    "Add in ErrorHandling controls"
   ]
  },
  {
   "cell_type": "code",
   "execution_count": null,
   "metadata": {},
   "outputs": [],
   "source": [
    "import yaml\n",
    "\n",
    "def load_credentials(filepath: str) -> dict:\n",
    "    try:\n",
    "        with open(filepath, \"r\") as f:\n",
    "            credentials = yaml.safe_load(f)\n",
    "            return credentials\n",
    "    except ExceptionError as e:\n",
    "        print(f\"Error loading credentials {e}\")\n",
    "        return {}"
   ]
  },
  {
   "cell_type": "markdown",
   "metadata": {},
   "source": [
    "**3. Initialise RDSDatabase Connector**"
   ]
  },
  {
   "cell_type": "markdown",
   "metadata": {},
   "source": [
    "- Initilising RDSDataseConnector taking the dictionary of credentials from above as a parameter\n",
    "- Setting \"*self.engine = None*\". Initilising it this way means that I am ensuring that the attributed are used only when they have valid values. It will be then set to a SQLAlchelmy engine object later. "
   ]
  },
  {
   "cell_type": "code",
   "execution_count": null,
   "metadata": {},
   "outputs": [],
   "source": [
    "class RDSDatabaseConnector:\n",
    "    def __init__(self, credentials: dict):\n",
    "        self.credentials = credentials\n",
    "        self.engine = None"
   ]
  },
  {
   "cell_type": "markdown",
   "metadata": {},
   "source": [
    "**4. Initialise SQLAlchemy Engine**\n",
    "\n",
    "- Defined method in RDSDatabaseConnector to set the engine to the SQLAlchemy Engine"
   ]
  },
  {
   "cell_type": "code",
   "execution_count": null,
   "metadata": {},
   "outputs": [],
   "source": [
    "    def initialise_engine(self):\n",
    "        '''\n",
    "        Initialises a SQLAlchemy engine using the provided credentials\n",
    "        '''\n",
    "        try:\n",
    "            engine_url = (f\"postgresql://\n",
    "            {self.credentials['RDS_USER']}:{self.credentials['RDS_PASSWORD']}@{self.credentials['RDS_HOST']}/{self.credentials['RDS_DATABASE']}\")\n",
    "            self.engine=create_engine(engine_url)\n",
    "            print(\"SQLAlchemy engine initialized successfully.\")\n",
    "        except Exception as e:\n",
    "            print(f\"Error initializing SQLAlchemy engine: {e}\")"
   ]
  },
  {
   "cell_type": "markdown",
   "metadata": {},
   "source": [
    "**5. Extract data**\n",
    "- Created a method to extract data from the RDS Database and return it as a Pandas DataFrame"
   ]
  },
  {
   "cell_type": "code",
   "execution_count": null,
   "metadata": {},
   "outputs": [],
   "source": [
    "def extract_data(self, query:str) -> pd.DataFrame:\n",
    "    if self.engine is None: \n",
    "        raise ValueError (\"Engine is not initialised. Call initialise_engine() first\")\n",
    "    return pd.read_sql(query,self.engine)\n"
   ]
  },
  {
   "cell_type": "markdown",
   "metadata": {},
   "source": [
    "**5. Create function to save the extracted data to a local file**"
   ]
  },
  {
   "cell_type": "code",
   "execution_count": null,
   "metadata": {},
   "outputs": [],
   "source": [
    "def save_to_csv (self, data: pd.DataFrame, filename: str):\n",
    "    data.to_csv(filename, index=False)"
   ]
  },
  {
   "cell_type": "markdown",
   "metadata": {},
   "source": [
    "**6. Disconnect**"
   ]
  },
  {
   "cell_type": "code",
   "execution_count": 2,
   "metadata": {},
   "outputs": [],
   "source": [
    "def disconnect():\n",
    "    if self.engine:\n",
    "        self.engine.dispose()\n",
    "        print(\"SQLAlchemy engine connection is closed\")\n",
    "    else:\n",
    "        print(\"No active connection to close.\")"
   ]
  },
  {
   "cell_type": "markdown",
   "metadata": {},
   "source": [
    "**7. Call the method** \n",
    "- To ensure that this code is only run when called upon I included the line if __name__ = \"__main__\" \n",
    "- Then called the method to connect to the database and disconnect once finished saving the data to the csv."
   ]
  },
  {
   "cell_type": "code",
   "execution_count": null,
   "metadata": {},
   "outputs": [],
   "source": [
    "if __name__ == \"__main__\":\n",
    "    credentials = load_credentials(\"credentials.yaml\")\n",
    "\n",
    "    connector = RDSDatabaseConnector(credentials)\n",
    "    connector.initialise_engine()\n",
    "    \n",
    "    query = \"SELECT * FROM loan_payments\"\n",
    "    data = connector.extract_data(query)\n",
    "\n",
    "    if not data.empty:\n",
    "        connector.save_to_csv(data,\"loan_payments.csv\")\n",
    "    \n",
    "    connector.disconnect()\n"
   ]
  },
  {
   "cell_type": "markdown",
   "metadata": {},
   "source": []
  }
 ],
 "metadata": {
  "kernelspec": {
   "display_name": "base",
   "language": "python",
   "name": "python3"
  },
  "language_info": {
   "codemirror_mode": {
    "name": "ipython",
    "version": 3
   },
   "file_extension": ".py",
   "mimetype": "text/x-python",
   "name": "python",
   "nbconvert_exporter": "python",
   "pygments_lexer": "ipython3",
   "version": "3.12.3"
  }
 },
 "nbformat": 4,
 "nbformat_minor": 2
}
