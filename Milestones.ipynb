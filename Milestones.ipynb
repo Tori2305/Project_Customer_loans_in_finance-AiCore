{
 "cells": [
  {
   "cell_type": "markdown",
   "metadata": {},
   "source": [
    "# Project 2 - Customer loans in Finance"
   ]
  },
  {
   "cell_type": "markdown",
   "metadata": {},
   "source": [
    "#### Milestone 2: Extract the loans data from the cloud\n",
    "\n",
    "- Task 1: Initalise a class to extract the data - see file db_utils.py\n",
    "- Task 2: Extract data from the RDSDatabase\n",
    "    - Create a file to store the database credentials and ensure this is added to .gitignore file in your repo.\n",
    "- Step 3: "
   ]
  },
  {
   "cell_type": "code",
   "execution_count": null,
   "metadata": {},
   "outputs": [],
   "source": [
    "#Task 1: Below is a high level of the class and all the methods defined within it:\n",
    "\n",
    "class RDSDatabaseConnector: \n",
    "    def __init__(self, credentials:dict):\n",
    "        #add in attributes\n",
    "    def connection(self):\n",
    "        #add in control structures & variables\n",
    "    def extract_data(self, query:str):\n",
    "        #add in control structures & variables\n",
    "    def save_data_to_csv(self, df:pd.DataFrame,filename: str = \"data.csv\")\n",
    "        #add in control structures & variables\n",
    "    def data_shape(self, df):\n",
    "        #add in control structures & variables\n",
    "    def disconnect(self):\n",
    "        #add in parameteres\n",
    "    "
   ]
  },
  {
   "cell_type": "markdown",
   "metadata": {},
   "source": []
  }
 ],
 "metadata": {
  "kernelspec": {
   "display_name": "base",
   "language": "python",
   "name": "python3"
  },
  "language_info": {
   "name": "python",
   "version": "3.12.3"
  }
 },
 "nbformat": 4,
 "nbformat_minor": 2
}
